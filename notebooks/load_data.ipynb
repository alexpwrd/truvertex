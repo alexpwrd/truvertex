{
 "cells": [
  {
   "cell_type": "code",
   "execution_count": 1,
   "id": "613cd2d5-a26d-45a7-a1af-368723e6a78d",
   "metadata": {},
   "outputs": [],
   "source": [
    "from pymilvus import utility, connections\n",
    "connections.connect(\n",
    "  alias=\"default\",\n",
    "  user='username',\n",
    "  password='password',\n",
    "  host='localhost',\n",
    "  port='19530'\n",
    ")"
   ]
  },
  {
   "cell_type": "code",
   "execution_count": 14,
   "id": "82c22509-bfb6-4831-adf2-7d569cec7211",
   "metadata": {},
   "outputs": [],
   "source": [
    "from pymilvus import CollectionSchema, FieldSchema, DataType, Collection\n",
    "\n",
    "auto_id = FieldSchema(\n",
    "    name=\"id\", \n",
    "    dtype=DataType.INT64, \n",
    "    descrition=\"primary field\", \n",
    "    is_primary=True, \n",
    "    auto_id=True\n",
    ")\n",
    "\n",
    "date = FieldSchema(\n",
    "  name=\"date\",\n",
    "  dtype=DataType.VARCHAR,\n",
    "  max_length=200\n",
    ")\n",
    "open = FieldSchema(\n",
    "  name=\"open\",\n",
    "  dtype=DataType.INT64\n",
    "  # The default value will be used if this field is left empty during data inserts or upserts.\n",
    "  # The data type of `default_value` must be the same as that specified in `dtype`.\n",
    ")\n",
    "high = FieldSchema(\n",
    "  name=\"high\",\n",
    "  dtype=DataType.INT64\n",
    "  # The default value will be used if this field is left empty during data inserts or upserts.\n",
    "  # The data type of `default_value` must be the same as that specified in `dtype`.\n",
    ")\n",
    "low = FieldSchema(\n",
    "  name=\"low\",\n",
    "  dtype=DataType.INT64\n",
    ")\n",
    "close = FieldSchema(\n",
    "  name=\"close\",\n",
    "  dtype=DataType.INT64\n",
    ")\n",
    "\n",
    "volume = FieldSchema(\n",
    "  name=\"volume\",\n",
    "  dtype=DataType.INT64\n",
    ")\n",
    "\n",
    "stock_intro = FieldSchema(\n",
    "  name=\"stock_intro\",\n",
    "  dtype=DataType.FLOAT_VECTOR,\n",
    "  dim=2\n",
    ")\n",
    "\n",
    "schema = CollectionSchema(\n",
    "  fields = [auto_id, date, open, high, low, close, volume, stock_intro],\n",
    "  description=\"stock prices\",\n",
    "  enable_dynamic_field=True\n",
    ")\n",
    "collection_name = \"stocks\"\n",
    "\n",
    "collection = Collection(collection_name, schema)"
   ]
  },
  {
   "cell_type": "code",
   "execution_count": 15,
   "id": "c375e9e9-de62-49fa-b563-defdd3d0dee2",
   "metadata": {},
   "outputs": [],
   "source": [
    "tasks = utility.do_bulk_insert(\n",
    "    collection_name=collection_name,\n",
    "    is_row_based=True,\n",
    "    files=[\"TSLA_daily.csv\"]\n",
    ")"
   ]
  },
  {
   "cell_type": "code",
   "execution_count": 35,
   "id": "0845b91f-c418-479b-a7f3-b3c5f3e855f9",
   "metadata": {},
   "outputs": [],
   "source": [
    "index_params = {\n",
    "  \"metric_type\":\"L2\",\n",
    "  \"index_type\":\"IVF_FLAT\",\n",
    "  \"params\":{\"nlist\":1024}\n",
    "}"
   ]
  },
  {
   "cell_type": "code",
   "execution_count": 36,
   "id": "23c01f01-c2c0-4b6e-bca4-31cba9d2eab0",
   "metadata": {},
   "outputs": [
    {
     "data": {
      "text/plain": [
       "{'total_rows': 0, 'indexed_rows': 0, 'pending_index_rows': 0}"
      ]
     },
     "execution_count": 36,
     "metadata": {},
     "output_type": "execute_result"
    }
   ],
   "source": [
    "from pymilvus import Collection, utility\n",
    "# Get an existing collection.\n",
    "collection = Collection(collection_name)      \n",
    "collection.create_index(\n",
    "  field_name=\"stock_intro\", \n",
    "  index_params=index_params\n",
    ")\n",
    "\n",
    "utility.index_building_progress(collection_name)\n",
    "# Output: {'total_rows': 0, 'indexed_rows': 0}"
   ]
  },
  {
   "cell_type": "code",
   "execution_count": 30,
   "id": "cc607590-304a-4d52-9768-daeb9f2c6dc2",
   "metadata": {},
   "outputs": [],
   "source": [
    "price_limit=200"
   ]
  },
  {
   "cell_type": "code",
   "execution_count": 44,
   "id": "0c0d63c8-f7fa-4c9a-b070-4db39b686e71",
   "metadata": {},
   "outputs": [
    {
     "data": {
      "text/plain": [
       "'low > 200'"
      ]
     },
     "execution_count": 44,
     "metadata": {},
     "output_type": "execute_result"
    }
   ],
   "source": [
    "f'low > {price_limit}'"
   ]
  },
  {
   "cell_type": "code",
   "execution_count": 41,
   "id": "a35af547-e4af-4ec3-b9cf-9c74a59de4c6",
   "metadata": {},
   "outputs": [],
   "source": [
    "collection.load()\n",
    "\n",
    "expr_ = f'low > {price_limit}'\n",
    "res = collection.query(\n",
    "  expr = expr_.format(price_limit),\n",
    "  output_fields = [\"stock_name\", \"volume\"],\n",
    ")"
   ]
  },
  {
   "cell_type": "code",
   "execution_count": 43,
   "id": "b9bd75e9-89b4-47bf-a04c-474bc722d160",
   "metadata": {},
   "outputs": [
    {
     "data": {
      "text/plain": [
       "[]"
      ]
     },
     "execution_count": 43,
     "metadata": {},
     "output_type": "execute_result"
    }
   ],
   "source": [
    "res"
   ]
  }
 ],
 "metadata": {
  "kernelspec": {
   "display_name": "Python 3 (ipykernel)",
   "language": "python",
   "name": "python3"
  },
  "language_info": {
   "codemirror_mode": {
    "name": "ipython",
    "version": 3
   },
   "file_extension": ".py",
   "mimetype": "text/x-python",
   "name": "python",
   "nbconvert_exporter": "python",
   "pygments_lexer": "ipython3",
   "version": "3.11.3"
  }
 },
 "nbformat": 4,
 "nbformat_minor": 5
}
